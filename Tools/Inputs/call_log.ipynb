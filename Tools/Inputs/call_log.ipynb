{
 "cells": [
  {
   "cell_type": "code",
   "execution_count": 19,
   "metadata": {},
   "outputs": [],
   "source": [
    "import pandas as pd\n",
    "import networkx as nx\n",
    "import numpy as np"
   ]
  },
  {
   "cell_type": "code",
   "execution_count": 20,
   "metadata": {},
   "outputs": [],
   "source": [
    "# call log from the Seattle PD PSAP for September 2020\n",
    "call_log = pd.read_csv(\"SPD_call_log.csv\")\n",
    "# Seattle PD PSAP graph\n",
    "G = nx.read_graphml(\"../gis2graph/graph_files/spd.graphml\")\n",
    "# call ratio per emergency type in percentage\n",
    "ems = 50\n",
    "law = 30\n",
    "fire = 20\n"
   ]
  },
  {
   "cell_type": "code",
   "execution_count": 21,
   "metadata": {},
   "outputs": [],
   "source": [
    "# use eval() to convert the str into python list\n",
    "SPD_grid = eval(G.nodes[\"SEATTLE PD Caller region\"][\"squares\"])\n",
    "# print(SPD_grid[0])\n",
    "call_log[\"start_time\"] = pd.to_datetime(call_log[\"start_time\"], format=\"%m/%d/%Y %H:%M:%S\")\n",
    "\n",
    "# Sort the calls so they are in order\n",
    "sorted = call_log.sort_values(\"start_time\")\n"
   ]
  },
  {
   "cell_type": "code",
   "execution_count": 23,
   "metadata": {},
   "outputs": [],
   "source": [
    "# At this point the call log only has the start_time and talk_time.\n",
    "# We will generate the coordinates by uniformily distribute the calls along\n",
    "# the caller region grid.\n",
    "# The grid is a set of square denoted by their bottom left and upper right corners.\n",
    "# We get the grid from the graphml file it looks like this:\n",
    "# SPD_grid = [[(-122.40326150882478, 47.59789698297564),\n",
    "#              (-122.37990573296226, 47.62125275883817)],\n",
    "#             [(-122.47332883641236, 47.55118543125059),\n",
    "#              (-122.44997306054984, 47.574541207113114)], ... ]\n",
    "grid_size = len(SPD_grid)\n",
    "np.random.seed(12346)   # Seed to make random numbers predictable\n",
    "\n",
    "# Distribute the calls amongst the square using a uniform distribution\n",
    "sorted['grid_idx'] = np.random.randint(0, len(SPD_grid), sorted.shape[0])\n",
    "sorted['x'] = sorted.apply(lambda x: (np.random.uniform(SPD_grid[x['grid_idx']][0][0], SPD_grid[x['grid_idx']][1][0])), axis=1)\n",
    "sorted['y'] = sorted.apply(lambda x: (np.random.uniform(SPD_grid[x['grid_idx']][0][1], SPD_grid[x['grid_idx']][1][1])), axis=1)\n",
    "\n",
    "# Assigned a number from 0 to 99 using a uniform distribution, we will\n",
    "# use this as the threshold for the emergency type\n",
    "sorted['type_prob'] = np.random.randint(0, 100, sorted.shape[0])\n",
    "# 20% of the values should be under 20, 30% between 20 and 49, 50% between 50 and 99\n",
    "sorted['emergency_type'] = sorted.apply(lambda call: 'Fire' if call['type_prob'] < fire else 'Law' if call['type_prob'] < 50 else 'EMS', axis=1)\n",
    "\n",
    "# Clean up\n",
    "sorted = sorted.drop(['grid_idx', 'type_prob'], axis=1)\n",
    "\n",
    "sorted.to_xml(\"SPD_calls.xml\", index=False)"
   ]
  }
 ],
 "metadata": {
  "interpreter": {
   "hash": "916dbcbb3f70747c44a77c7bcd40155683ae19c65e1c03b4aa3499c5328201f1"
  },
  "kernelspec": {
   "display_name": "Python 3.10.4 64-bit",
   "language": "python",
   "name": "python3"
  },
  "language_info": {
   "codemirror_mode": {
    "name": "ipython",
    "version": 3
   },
   "file_extension": ".py",
   "mimetype": "text/x-python",
   "name": "python",
   "nbconvert_exporter": "python",
   "pygments_lexer": "ipython3",
   "version": "3.10.6"
  },
  "orig_nbformat": 4
 },
 "nbformat": 4,
 "nbformat_minor": 2
}
